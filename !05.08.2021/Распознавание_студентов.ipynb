{
  "nbformat": 4,
  "nbformat_minor": 0,
  "metadata": {
    "jupytext": {
      "split_at_heading": true
    },
    "kernelspec": {
      "display_name": "Python 3",
      "language": "python",
      "name": "python3"
    },
    "colab": {
      "name": "Распознавание студентов",
      "provenance": [],
      "collapsed_sections": []
    },
    "accelerator": "GPU"
  },
  "cells": [
    {
      "cell_type": "markdown",
      "metadata": {
        "id": "A-kuadglUAi0"
      },
      "source": [
        "#Подключитесь к своему диску, на котором расположена папка с фото"
      ]
    },
    {
      "cell_type": "markdown",
      "metadata": {
        "id": "wN64jty-VXWj"
      },
      "source": [
        "###Запустите выполнение программы (нажмте слева на [  ]). Дождитесь загрузки. Появтся ссылка. Нажмите на ссылку и подтвердите доступ к вашему диску. Появится набор символов и справа от него значок. Нажмите его (копирование символов в буфер обмена). Вернитесь к colab и в поле вставьте содержимое буфера обмена (Ctr+V) и нажмите Enter."
      ]
    },
    {
      "cell_type": "code",
      "metadata": {
        "id": "nWENU6qHWEiG"
      },
      "source": [
        "from google.colab import drive\n",
        "drive.mount('/content/gdrive')"
      ],
      "execution_count": null,
      "outputs": []
    },
    {
      "cell_type": "markdown",
      "metadata": {
        "id": "a_HldZh2VSv0"
      },
      "source": [
        "##Загрузка библиотек"
      ]
    },
    {
      "cell_type": "code",
      "metadata": {
        "id": "iccv8nAyI4YN"
      },
      "source": [
        "#hide\n",
        "#skip\n",
        "! [ -e /content ] && pip install -Uqq fastai  # upgrade fastai on colab"
      ],
      "execution_count": null,
      "outputs": []
    },
    {
      "cell_type": "code",
      "metadata": {
        "id": "hdB0ygULI4YR"
      },
      "source": [
        "from fastai.vision.all import *"
      ],
      "execution_count": 3,
      "outputs": []
    },
    {
      "cell_type": "markdown",
      "metadata": {
        "id": "wjy-I1OkWTbb"
      },
      "source": [
        "###Полуение пути к папке"
      ]
    },
    {
      "cell_type": "code",
      "metadata": {
        "id": "623ptDiKFBsX"
      },
      "source": [
        "from pathlib import Path\n",
        "str_path = '/content/gdrive/My Drive/DBStudent'\n",
        "path = Path(str_path)"
      ],
      "execution_count": 19,
      "outputs": []
    },
    {
      "cell_type": "code",
      "metadata": {
        "id": "nqS_cdyaFwCz"
      },
      "source": [
        "path.ls()"
      ],
      "execution_count": null,
      "outputs": []
    },
    {
      "cell_type": "code",
      "metadata": {
        "colab": {
          "base_uri": "https://localhost:8080/"
        },
        "id": "K71CQCesBT0j",
        "outputId": "f3881b93-4b7a-49ee-da42-aa740af1a9e8"
      },
      "source": [
        "files = get_image_files(\"/content/gdrive/My Drive/DBStudent/\")\n",
        "len(files)"
      ],
      "execution_count": 20,
      "outputs": [
        {
          "output_type": "execute_result",
          "data": {
            "text/plain": [
              "51"
            ]
          },
          "metadata": {
            "tags": []
          },
          "execution_count": 20
        }
      ]
    },
    {
      "cell_type": "code",
      "metadata": {
        "id": "HFc0MMl-I4Yd"
      },
      "source": [
        "pat = r'^(.*)_\\d+.jpg'"
      ],
      "execution_count": 7,
      "outputs": []
    },
    {
      "cell_type": "code",
      "metadata": {
        "id": "fsmLAu99I4Ye"
      },
      "source": [
        "dls = ImageDataLoaders.from_name_re(path, files, pat, item_tfms=Resize(224), bs=4)"
      ],
      "execution_count": 8,
      "outputs": []
    },
    {
      "cell_type": "markdown",
      "metadata": {
        "id": "58UgIPD8WaSA"
      },
      "source": [
        "###Вывод тестовых картинок с пометками ФИО"
      ]
    },
    {
      "cell_type": "code",
      "metadata": {
        "id": "S_chJbNxI4Ye"
      },
      "source": [
        "dls.show_batch()"
      ],
      "execution_count": null,
      "outputs": []
    },
    {
      "cell_type": "code",
      "metadata": {
        "id": "l8RWjI4II4Yf"
      },
      "source": [
        "dls = ImageDataLoaders.from_name_re(path, files, pat, item_tfms=Resize(460),\n",
        "                                    batch_tfms=aug_transforms(size=224), bs=4)"
      ],
      "execution_count": null,
      "outputs": []
    },
    {
      "cell_type": "code",
      "metadata": {
        "id": "olxOJCgxI4Yg"
      },
      "source": [
        "dls.show_batch()"
      ],
      "execution_count": null,
      "outputs": []
    },
    {
      "cell_type": "markdown",
      "metadata": {
        "id": "AYqbAymGWjLQ"
      },
      "source": [
        "###Обучение модели"
      ]
    },
    {
      "cell_type": "code",
      "metadata": {
        "id": "h8GI6HMCI4Yg"
      },
      "source": [
        "learn = cnn_learner(dls, resnet34, metrics=error_rate)"
      ],
      "execution_count": null,
      "outputs": []
    },
    {
      "cell_type": "code",
      "metadata": {
        "id": "9473CrdRI4Yh"
      },
      "source": [
        "learn.fine_tune(5, 3e-3)"
      ],
      "execution_count": null,
      "outputs": []
    },
    {
      "cell_type": "markdown",
      "metadata": {
        "id": "vMJy8DtDWnHe"
      },
      "source": [
        "###Резьтат работы (сверху истинное значение, снизу предсказанное)"
      ]
    },
    {
      "cell_type": "code",
      "metadata": {
        "id": "Fb4GTb2qI4Yi"
      },
      "source": [
        "learn.show_results()"
      ],
      "execution_count": null,
      "outputs": []
    },
    {
      "cell_type": "markdown",
      "metadata": {
        "id": "f2etGeJtfTTL"
      },
      "source": [
        "###Чтобы получить предсказание для отдельного человека - убедитесь, что в папке test, которая находтся в папке DBStudent, есть данное фото. Вернитесь сюда и в следующей строке в кавычках '   ' введите название картинки (без расширения! следите, чтобы кавычки оставались на месте!) и продолжите запуск."
      ]
    },
    {
      "cell_type": "code",
      "metadata": {
        "id": "GlS0DMpii6qP"
      },
      "source": [
        "name = 'aaa'"
      ],
      "execution_count": 15,
      "outputs": []
    },
    {
      "cell_type": "code",
      "metadata": {
        "id": "3omBhU-Iegmq"
      },
      "source": [
        "import torch\n",
        "import numpy as np\n",
        "from PIL import Image\n",
        "import matplotlib.pyplot as plt\n",
        "import torchvision.transforms as transforms\n",
        "%matplotlib inline\n",
        "path_student = '/content/gdrive/My Drive/test/'+name+'.jpg'\n",
        "# pytorch provides a function to convert PIL images to tensors.\n",
        "pil2tensor = transforms.ToTensor()\n",
        "tensor2pil = transforms.ToPILImage()\n",
        "\n",
        "# Read the image from file. Assuming it is in the same directory.\n",
        "pil_image = Image.open(path_student)\n",
        "rgb_image = pil2tensor(pil_image)\n",
        "\n",
        "# Plot the image here using matplotlib.\n",
        "def plot_image(tensor):\n",
        "    plt.figure()\n",
        "    # imshow needs a numpy array with the channel dimension\n",
        "    # as the the last dimension so we have to transpose things.\n",
        "    plt.imshow(tensor.numpy().transpose(1, 2, 0))\n",
        "    plt.show()\n",
        "\n",
        "plot_image(rgb_image)\n",
        "\n",
        "print(\"Студент: \", learn.predict(path_student)[0])"
      ],
      "execution_count": null,
      "outputs": []
    },
    {
      "cell_type": "markdown",
      "metadata": {
        "id": "VpP32m4SW4EP"
      },
      "source": [
        "###Посмотеть точность предсказания по кластерам"
      ]
    },
    {
      "cell_type": "code",
      "metadata": {
        "id": "yJ0SqqrKI4Yi",
        "colab": {
          "base_uri": "https://localhost:8080/",
          "height": 17
        },
        "outputId": "b631813c-2130-4d5b-e1a2-d30f34c4d6e1"
      },
      "source": [
        "interp = Interpretation.from_learner(learn)"
      ],
      "execution_count": 17,
      "outputs": [
        {
          "output_type": "display_data",
          "data": {
            "text/html": [
              ""
            ],
            "text/plain": [
              "<IPython.core.display.HTML object>"
            ]
          },
          "metadata": {
            "tags": []
          }
        }
      ]
    },
    {
      "cell_type": "code",
      "metadata": {
        "id": "LeJWFo5aI4Yj"
      },
      "source": [
        "interp.plot_top_losses(9, figsize=(15,10))"
      ],
      "execution_count": null,
      "outputs": []
    }
  ]
}